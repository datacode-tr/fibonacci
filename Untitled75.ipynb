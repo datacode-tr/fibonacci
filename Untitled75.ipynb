{
  "nbformat": 4,
  "nbformat_minor": 0,
  "metadata": {
    "colab": {
      "name": "Untitled75.ipynb",
      "provenance": [],
      "authorship_tag": "ABX9TyNXVWRFq9la9Wc9QwchUVPc",
      "include_colab_link": true
    },
    "kernelspec": {
      "name": "python3",
      "display_name": "Python 3"
    },
    "language_info": {
      "name": "python"
    }
  },
  "cells": [
    {
      "cell_type": "markdown",
      "metadata": {
        "id": "view-in-github",
        "colab_type": "text"
      },
      "source": [
        "<a href=\"https://colab.research.google.com/github/datacode-tr/fibonacci/blob/main/Untitled75.ipynb\" target=\"_parent\"><img src=\"https://colab.research.google.com/assets/colab-badge.svg\" alt=\"Open In Colab\"/></a>"
      ]
    },
    {
      "cell_type": "code",
      "metadata": {
        "id": "X73WtjbUNyax"
      },
      "source": [
        "def fibo(n):\n",
        "    a = 0\n",
        "    b = 1\n",
        "    c = a+b\n",
        "    ls_fib=[0,1]\n",
        "    if n == 1:\n",
        "      print(a,b)\n",
        "    else:\n",
        "      while n >= a+b:\n",
        "        c = a+b\n",
        "        ls_fib.append(c)\n",
        "        a=b\n",
        "        b=c\n",
        "        \n",
        "    print(ls_fib)"
      ],
      "execution_count": 31,
      "outputs": []
    },
    {
      "cell_type": "code",
      "metadata": {
        "colab": {
          "base_uri": "https://localhost:8080/"
        },
        "id": "ScRfI-f4Vs3H",
        "outputId": "9e2d2c61-3c0a-474a-b518-9735d464843e"
      },
      "source": [
        "fibo(55)"
      ],
      "execution_count": 32,
      "outputs": [
        {
          "output_type": "stream",
          "text": [
            "[0, 1, 1, 2, 3, 5, 8, 13, 21, 34, 55]\n"
          ],
          "name": "stdout"
        }
      ]
    },
    {
      "cell_type": "code",
      "metadata": {
        "colab": {
          "base_uri": "https://localhost:8080/"
        },
        "id": "jupgo4r6UmEj",
        "outputId": "748d119b-3b00-4dd7-f409-2a10d7232e27"
      },
      "source": [
        "user = int(input('enter the last number of fib : '))\n",
        "first = 0\n",
        "second = 1\n",
        "lst_fib = []\n",
        "while user >= first:\n",
        "    lst_fib.append(first)\n",
        "    temp = first\n",
        "    first= second\n",
        "    second = temp+second\n",
        "print(lst_fib)\n",
        "\n",
        "\n",
        "\n",
        "\n",
        "\n",
        "\n",
        "\n",
        "\n",
        "\n"
      ],
      "execution_count": 43,
      "outputs": [
        {
          "output_type": "stream",
          "text": [
            "enter the last number of fib : 1\n",
            "[0, 1, 1]\n"
          ],
          "name": "stdout"
        }
      ]
    }
  ]
}